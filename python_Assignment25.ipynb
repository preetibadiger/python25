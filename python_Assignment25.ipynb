{
 "cells": [
  {
   "cell_type": "code",
   "execution_count": null,
   "id": "cef74848",
   "metadata": {},
   "outputs": [],
   "source": [
    "1) . What is the difference between enclosing a list comprehension in square brackets and\n",
    "parentheses?\n",
    "\n",
    "ANS:\n",
    "    Square brackets are lists while parentheses are tuples.\n",
    "   "
   ]
  },
  {
   "cell_type": "code",
   "execution_count": null,
   "id": "bbbd5b49",
   "metadata": {},
   "outputs": [],
   "source": [
    "2) What is the relationship between generators and iterators?\n",
    "\n",
    "ANS:\n",
    "    Iterators are the objects that use the next() method to get the next value of the sequence.\n",
    "    A generator is a function that produces or yields a sequence of values using a yield statement.\n",
    "    Classes are used to Implement the iterators. Functions are used to implement the generator."
   ]
  },
  {
   "cell_type": "code",
   "execution_count": null,
   "id": "10476fad",
   "metadata": {},
   "outputs": [],
   "source": [
    "3) What are the signs that a function is a generator function?\n",
    "\n",
    "ANS:\n",
    "    If a function contains at least one yield statement (it may contain other yield or return statements), \n",
    "    it becomes a generator function. Both yield and return will return some value from a function."
   ]
  },
  {
   "cell_type": "code",
   "execution_count": null,
   "id": "9fce4fa6",
   "metadata": {},
   "outputs": [],
   "source": [
    "4) What is the purpose of a yield statement?\n",
    "\n",
    "ANS:\n",
    "    The yield statement suspends functions execution and sends a value back to the caller, but retains\n",
    "    enough state to enable function to resume where it is left off. When resumed, the function continues \n",
    "    execution immediately after the last yield run."
   ]
  },
  {
   "cell_type": "code",
   "execution_count": null,
   "id": "7ceb4ed4",
   "metadata": {},
   "outputs": [],
   "source": [
    "5) What is the relationship between map calls and list comprehensions? Make a comparison and\n",
    "contrast between the two.\n",
    "\n",
    "ANS:\n",
    "    List comprehension is more concise and easier to read as compared to map.\n",
    "    List comprehension are used when a list of results is required as map only returns a map object\n",
    "    and does not return any list. Map is faster in case of calling an already defined function (as no lambda is required)."
   ]
  },
  {
   "cell_type": "code",
   "execution_count": null,
   "id": "d9d2c88e",
   "metadata": {},
   "outputs": [],
   "source": []
  }
 ],
 "metadata": {
  "kernelspec": {
   "display_name": "Python 3 (ipykernel)",
   "language": "python",
   "name": "python3"
  },
  "language_info": {
   "codemirror_mode": {
    "name": "ipython",
    "version": 3
   },
   "file_extension": ".py",
   "mimetype": "text/x-python",
   "name": "python",
   "nbconvert_exporter": "python",
   "pygments_lexer": "ipython3",
   "version": "3.9.7"
  }
 },
 "nbformat": 4,
 "nbformat_minor": 5
}
